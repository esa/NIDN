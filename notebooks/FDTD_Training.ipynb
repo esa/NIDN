{
 "cells": [
  {
   "cell_type": "code",
   "execution_count": 1,
   "id": "40007a5d",
   "metadata": {},
   "outputs": [
    {
     "name": "stderr",
     "output_type": "stream",
     "text": [
      "\u001b[32m14:54:57\u001b[0m|NIDN-\u001b[34mINFO\u001b[0m| \u001b[1mInitialized NIDN for cpu\u001b[0m\n",
      "\u001b[32m14:54:57\u001b[0m|NIDN-\u001b[34mINFO\u001b[0m| \u001b[1mUsing double precision\u001b[0m\n"
     ]
    }
   ],
   "source": [
    "### Imports (TODO remove this when finished)\n",
    "%load_ext autoreload\n",
    "%autoreload 2\n",
    "\n",
    "# Append root folder in case you haven't installed NIDN\n",
    "import sys\n",
    "sys.path.append(\"../\")\n",
    "\n",
    "import nidn"
   ]
  },
  {
   "cell_type": "markdown",
   "id": "9bd3165d",
   "metadata": {},
   "source": [
    "# Letting the NIDN learn the permivvivity of Titanium Dioxide\n",
    "\n",
    "Here, we pass an already calculated spectrum from TiO2, and test if the NIDN returns the permittivity of TiO2. If it does, it succesfully is able to learn the correct permittivity required for a single layer to match the desired spectrum"
   ]
  },
  {
   "cell_type": "code",
   "execution_count": null,
   "id": "579aae8b",
   "metadata": {
    "scrolled": false
   },
   "outputs": [],
   "source": [
    "# Load default cfg as starting point\n",
    "cfg = nidn.load_default_cfg()\n",
    "\n",
    "# Specify your desired range of wavelengths\n",
    "cfg.physical_wavelength_range[0] = 1e-6\n",
    "cfg.physical_wavelength_range[1] = 1e-5\n",
    "\n",
    "# Let's investigate 32 frequency points\n",
    "cfg.N_freq = 32\n",
    "\n",
    "# Currently, the target spectra is set manually as a list of numbers \n",
    "cfg.target_reflectance_spectrum =   [0.01990215,0.29430509,0.30827604,0.20568143,0.03479743,0.03237307,0.21794823,0.37803084,0.44122008,0.41114147,0.28422894,0.08763780,0.00471842,0.15989135,0.34718527,0.44319130,0.44568130,0.35408899,0.16817183,0.00585206,0.08819886,0.29369360,0.42720784,0.46166416,0.40164924,0.23886748,0.03722395,0.03982127,0.24579889,0.40972195,0.46816629,0.42871305]\n",
    "cfg.target_transmittance_spectrum = [0.80566155,0.68022463,0.65655138,0.79343985,0.96515193,0.96756870,0.78199519,0.62191506,0.55872423,0.58879567,0.71569349,0.91226289,0.99516797,0.84000163,0.65271921,0.55671747,0.55422263,0.64579931,0.83168831,0.99398072,0.91163717,0.70616374,0.57266280,0.53820642,0.59820689,0.76095669,0.96255973,0.95995524,0.75400721,0.59010836,0.53166987,0.57111012]\n",
    "# Since R + T + A = 1, we only need to give the reflectance and transmittance (absorptance is implicit)\n",
    "\n",
    "nidn.plot_spectrum(cfg,\n",
    "                   cfg.target_reflectance_spectrum,\n",
    "                   cfg.target_transmittance_spectrum)\n",
    "\n",
    "physical_wls, normalized_freqs = nidn.get_frequency_points(cfg)\n",
    "print(\"Physical wavelengths are (in meters):\")\n",
    "print(physical_wls)"
   ]
  },
  {
   "cell_type": "markdown",
   "id": "63218401",
   "metadata": {},
   "source": [
    "NB: The frequency range is not stable when we change all the time!"
   ]
  },
  {
   "cell_type": "markdown",
   "id": "62213b7b",
   "metadata": {},
   "source": [
    "What happened in the cell above is that we choose 32 frequency points {logarithmically/linearly} spread between 0.1 and 4 in the frequency domain. In TRCWA, the frequencies are given in relation to the lattice vectors, given in micrometers. A frequency of 0.1 and 4 therefore corresponds to a physical wavelength of (1/0.1) μm = 10 μm and (1/1) μm = 1.0 μm, respectively, as given by nidn.get_frequency_points() function.\n",
    "\n",
    "If you want to make sure the design target is obtainable, for instance to use it as a ground truth, then you can do a simulation of the spectrum from some structure using the `Running_TRCWA` notebook."
   ]
  },
  {
   "cell_type": "markdown",
   "id": "8f1dc640",
   "metadata": {},
   "source": [
    "## Example 1 - Uniform single-layer with unrestricted epsilon\n",
    "\n",
    "Let's start with a uniform single-layer and see if NIDN can get sufficiently close to the ground truth."
   ]
  },
  {
   "cell_type": "code",
   "execution_count": null,
   "id": "970b965a",
   "metadata": {},
   "outputs": [],
   "source": [
    "cfg.Nx = 1 # Set layer size  to 1x1 (interpreted as uniform)\n",
    "cfg.Ny = 1\n",
    "cfg.N_layers = 1 # Choose number of layers\n",
    "\n",
    "# Allowed range of epsilon values\n",
    "cfg.real_min_eps = 0.0\n",
    "cfg.real_max_eps = 20.0\n",
    "cfg.imag_min_eps = 0.0\n",
    "cfg.imag_max_eps = 3.0\n",
    "\n",
    "cfg.type = \"regression\" # Choose type as described above\n",
    "cfg.iterations = 100 # Set number of training iterations (that is forward model evaluations) to perform\n",
    "\n",
    "cfg.FDTD_niter = 300"
   ]
  },
  {
   "cell_type": "code",
   "execution_count": null,
   "id": "898462e4",
   "metadata": {},
   "outputs": [],
   "source": [
    "#Show all used settings\n",
    "nidn.print_cfg(cfg)"
   ]
  },
  {
   "cell_type": "markdown",
   "id": "0f313423",
   "metadata": {},
   "source": [
    "`print_cfg(cfg)` shows you more or less everything you want to know about the config.\n",
    "Using `run_training(cfg)`, we run the network until it reaches the number of iterations set above (or until you interrupt it)."
   ]
  },
  {
   "cell_type": "code",
   "execution_count": null,
   "id": "3b8c547a",
   "metadata": {
    "scrolled": false
   },
   "outputs": [],
   "source": [
    "nidn.run_training(cfg);"
   ]
  },
  {
   "cell_type": "markdown",
   "id": "e238f525",
   "metadata": {},
   "source": [
    "### Interpretation of results\n",
    "\n",
    "#### Loss plot\n",
    "\n",
    "The loss as a function of model evaluations is presented below. As the training evolves, the three losses here, [L1](https://afteracademy.com/blog/what-are-l1-and-l2-loss-functions), Loss, and Weighted Average Loss, can be seen to decrease. {Pablo add link/explanation to the other losses}."
   ]
  },
  {
   "cell_type": "code",
   "execution_count": null,
   "id": "73799e6d",
   "metadata": {},
   "outputs": [],
   "source": [
    "nidn.plot_losses(cfg)"
   ]
  },
  {
   "cell_type": "markdown",
   "id": "d36f34ee",
   "metadata": {},
   "source": [
    "#### Spectrum plots\n",
    "\n",
    "The produced RTA spectra are plotted together with the target spectra in the figure below."
   ]
  },
  {
   "cell_type": "code",
   "execution_count": null,
   "id": "578b6bdc",
   "metadata": {},
   "outputs": [],
   "source": [
    "nidn.plot_spectra(cfg)"
   ]
  },
  {
   "cell_type": "markdown",
   "id": "93afdb24",
   "metadata": {},
   "source": [
    "#### Absolute grid values plot\n",
    "\n",
    "The complex absolute value of the epsilon over all frequencies is presented here. This plot is in general more useful for patterned multilayers."
   ]
  },
  {
   "cell_type": "code",
   "execution_count": null,
   "id": "7abcbe69",
   "metadata": {},
   "outputs": [],
   "source": [
    "nidn.plot_model_grid(cfg)"
   ]
  },
  {
   "cell_type": "markdown",
   "id": "38124f29",
   "metadata": {},
   "source": [
    "#### Epsilon vs frequency and real materials\n",
    "\n",
    "The following function plots the epsilon values vs. frequency of grid points against real materials in our library. This plot is in general more useful for patterned multilayers."
   ]
  },
  {
   "cell_type": "code",
   "execution_count": null,
   "id": "66748550",
   "metadata": {},
   "outputs": [],
   "source": [
    "nidn.plot_eps_per_point(cfg)"
   ]
  },
  {
   "cell_type": "markdown",
   "id": "6c0b0854",
   "metadata": {},
   "source": [
    "## Example 2 - Uniform single-layer with materials classification\n",
    "\n",
    "Next up is the same example, a uniform single-layer of titanium oxide, but this time we check if NIDN can predict the correct material."
   ]
  },
  {
   "cell_type": "code",
   "execution_count": null,
   "id": "09bb33f5",
   "metadata": {},
   "outputs": [],
   "source": [
    "cfg.pop(\"model\",None); # Forget the old model\n",
    "cfg.Nx = 1 # Set layer size  to 1x1 (interpreted as uniform)\n",
    "cfg.Ny = 1\n",
    "cfg.N_layers = 1 # Choose number of layers\n",
    "\n",
    "cfg.type = \"classification\" # Choose type as described above\n",
    "cfg.iterations = 100 # Set number of training iterations (that is forward model evaluations) to perform"
   ]
  },
  {
   "cell_type": "code",
   "execution_count": null,
   "id": "481b28f2",
   "metadata": {},
   "outputs": [],
   "source": [
    "nidn.run_training(cfg);"
   ]
  },
  {
   "cell_type": "code",
   "execution_count": null,
   "id": "0bc16df3",
   "metadata": {
    "scrolled": false
   },
   "outputs": [],
   "source": [
    "nidn.plot_losses(cfg)\n",
    "nidn.plot_spectra(cfg)\n",
    "nidn.plot_model_grid(cfg)\n",
    "nidn.plot_eps_per_point(cfg)"
   ]
  },
  {
   "cell_type": "markdown",
   "id": "b5855a01",
   "metadata": {},
   "source": [
    "As can be seen from the plots, the prediction is correct and the loss is even lower."
   ]
  },
  {
   "cell_type": "markdown",
   "id": "c1708f18",
   "metadata": {},
   "source": [
    "## Example 3 - Optical filter with regression\n",
    "\n",
    "The goal of using NIDN is to find a structure with reflection, transmission, and reflection spectra as close to you target spectra as possible. We might for instance want a filter that has a high transmission for wavelengths around 1550 nm and low transmission for other wavelengths. The reflection should be opposite to that of the transmission and the absorption should be minimal for all wavelengths.\n",
    "The target spectra with these requirements can be set using the following code:\n",
    "\n",
    "For the third and final example, we will try to find a structure that satisfies these requirements setting the target spectra using regression. The structure would work as an optical filter with transmission only for wavelengths around 1550 nm.\n",
    "The structure consists of Y layers with X x X grid points per layer. As can be seen in the code below, we make use of oversampling."
   ]
  },
  {
   "cell_type": "code",
   "execution_count": null,
   "id": "b601e1b4",
   "metadata": {},
   "outputs": [],
   "source": [
    "# Define target for the filter\n",
    "cfg = nidn.load_default_cfg()\n",
    "cfg.N_freq = 20\n",
    "cfg.target_reflectance_spectrum =   12*[1.0] + [0.0] + 7*[1.0]\n",
    "cfg.target_transmittance_spectrum = 12*[0.0] + [1.0] + 7*[0.0]\n",
    "cfg.physical_wavelength_range[0] = 1e-6\n",
    "cfg.physical_wavelength_range[1] = 1e-5\n",
    "cfg.freq_distribution = \"linear\"\n",
    "\n",
    "\n",
    "nidn.plot_spectrum(cfg,\n",
    "                   cfg.target_reflectance_spectrum,\n",
    "                   cfg.target_transmittance_spectrum)"
   ]
  },
  {
   "cell_type": "code",
   "execution_count": null,
   "id": "579f8ada",
   "metadata": {},
   "outputs": [],
   "source": [
    "# Allowed range of epsilon values\n",
    "cfg.real_min_eps = 0.0\n",
    "cfg.real_max_eps = 20.0\n",
    "imag_min_eps = 0.0\n",
    "imag_max_eps = 3.0\n",
    "\n",
    "cfg.Nx = 1 # Set layer size  to 16x16 (each of the grid points has its own epsilon now)\n",
    "cfg.Ny = 1\n",
    "cfg.eps_oversampling = 1\n",
    "cfg.N_layers = 10 # Less layer to keep compute managable\n",
    "cfg.type = \"regression\" # Choose type as described above (for now still regression)\n",
    "cfg.iterations = 3000 # Set number of training iterations (that is forward model evaluations) to perform"
   ]
  },
  {
   "cell_type": "code",
   "execution_count": null,
   "id": "7a834af6",
   "metadata": {
    "scrolled": false
   },
   "outputs": [],
   "source": [
    "nidn.run_training(cfg);"
   ]
  },
  {
   "cell_type": "code",
   "execution_count": null,
   "id": "a647a1ae",
   "metadata": {
    "scrolled": false
   },
   "outputs": [],
   "source": [
    "# The other plots\n",
    "nidn.plot_losses(cfg)\n",
    "nidn.plot_spectra(cfg)\n",
    "nidn.plot_model_grid(cfg)\n",
    "nidn.plot_eps_per_point(cfg)"
   ]
  },
  {
   "cell_type": "markdown",
   "id": "f0834d24",
   "metadata": {},
   "source": [
    "NIDN is able to get quite close to the desired spectra with the unrestricted epsilon. \n",
    "\n",
    "#### Material ID plot\n",
    "\n",
    "Finally, we will present another plot, showing the real materials closest to the unrestricted ones for each grid point.\n",
    "The layers are numbered from bottom to top, and the light is incident on the first layer, i.e., the bottom of the stack."
   ]
  },
  {
   "cell_type": "code",
   "execution_count": null,
   "id": "833f27ec",
   "metadata": {},
   "outputs": [],
   "source": [
    "nidn.plot_material_grid(cfg)"
   ]
  },
  {
   "cell_type": "markdown",
   "id": "2aa404c1",
   "metadata": {},
   "source": [
    "NB Here we should have plotted the RTA result of this structure.\n",
    "In case you want to save results you can use this handy function to save it to the results folder with a current timestamp."
   ]
  },
  {
   "cell_type": "code",
   "execution_count": null,
   "id": "ae4af0a7",
   "metadata": {},
   "outputs": [],
   "source": [
    "nidn.save_run(cfg)\n",
    "\n",
    "# You can save all available plots to a single folder using this function\n",
    "nidn.save_all_plots(cfg,save_path=\"/results/example/\")"
   ]
  },
  {
   "cell_type": "code",
   "execution_count": null,
   "id": "c2de9e9b",
   "metadata": {},
   "outputs": [],
   "source": [
    "# Squared german & tantalum layer\n",
    "cfg = nidn.load_default_cfg()\n",
    "cfg.N_freq = 20\n",
    "cfg.target_reflectance_spectrum =   [0.60248210,0.20808528,0.10825184,0.55990793,0.72659247,0.74876763,0.65817925,0.32626005,0.03080333,0.50414092,0.71607931,0.75605811,0.68509433,0.38961000,0.01012443,0.48532436,0.71720245,0.76067772,0.69521557,0.41321222,]\n",
    "cfg.target_transmittance_spectrum = [0.38656270,0.77990755,0.88060908,0.43550853,0.27110902,0.24957937,0.33986960,0.67012270,0.96391071,0.49316468,0.28246341,0.24277933,0.31350818,0.60775718,0.98545664,0.51235020,0.28152825,0.23829265,0.30353337,0.58443205,]\n",
    "cfg.physical_wavelength_range[0] = 2e-6\n",
    "cfg.physical_wavelength_range[1] = 1e-5\n",
    "cfg.freq_distribution = \"linear\"\n",
    "\n",
    "nidn.plot_spectrum(cfg,\n",
    "                   cfg.target_reflectance_spectrum,\n",
    "                   cfg.target_transmittance_spectrum)"
   ]
  },
  {
   "cell_type": "code",
   "execution_count": null,
   "id": "15c5566e",
   "metadata": {},
   "outputs": [],
   "source": [
    "cfg.pop(\"model\",None); # Forget the old model\n",
    "cfg.Nx = 9 # Set layer size  to 1x1 (interpreted as uniform)\n",
    "cfg.Ny = 9\n",
    "cfg.eps_oversampling = 3\n",
    "cfg.N_layers = 1 # Choose number of layers\n",
    "cfg.type = \"regression\" # Choose type as described above\n",
    "cfg.iterations = 5000 # Set number of training iterations (that is forward model evaluations) to perform"
   ]
  },
  {
   "cell_type": "code",
   "execution_count": null,
   "id": "5181f3e4",
   "metadata": {},
   "outputs": [],
   "source": [
    "nidn.run_training(cfg);"
   ]
  },
  {
   "cell_type": "code",
   "execution_count": null,
   "id": "4d05689b",
   "metadata": {
    "scrolled": false
   },
   "outputs": [],
   "source": [
    "nidn.plot_losses(cfg)\n",
    "nidn.plot_spectra(cfg)\n",
    "nidn.plot_model_grid(cfg)\n",
    "nidn.plot_eps_per_point(cfg)"
   ]
  },
  {
   "cell_type": "code",
   "execution_count": null,
   "id": "22683307",
   "metadata": {},
   "outputs": [],
   "source": [
    "cfg.pop(\"model\",None); # Forget the old model\n",
    "cfg.Nx = 9 # Set layer size  to 1x1 (interpreted as uniform)\n",
    "cfg.Ny = 9\n",
    "cfg.eps_oversampling = 3\n",
    "cfg.N_layers = 1 # Choose number of layers\n",
    "cfg.type = \"classification\" # Choose type as described above\n",
    "cfg.iterations = 5000 # Set number of training iterations (that is forward model evaluations) to perform"
   ]
  },
  {
   "cell_type": "code",
   "execution_count": null,
   "id": "a908be60",
   "metadata": {
    "scrolled": false
   },
   "outputs": [],
   "source": [
    "nidn.run_training(cfg);"
   ]
  },
  {
   "cell_type": "code",
   "execution_count": null,
   "id": "1bb9d3ac",
   "metadata": {},
   "outputs": [],
   "source": [
    "nidn.plot_losses(cfg)\n",
    "nidn.plot_spectra(cfg)\n",
    "nidn.plot_model_grid(cfg)\n",
    "nidn.plot_eps_per_point(cfg)"
   ]
  }
 ],
 "metadata": {
  "kernelspec": {
   "display_name": "Python 3 (ipykernel)",
   "language": "python",
   "name": "python3"
  },
  "language_info": {
   "codemirror_mode": {
    "name": "ipython",
    "version": 3
   },
   "file_extension": ".py",
   "mimetype": "text/x-python",
   "name": "python",
   "nbconvert_exporter": "python",
   "pygments_lexer": "ipython3",
   "version": "3.9.10"
  }
 },
 "nbformat": 4,
 "nbformat_minor": 5
}
